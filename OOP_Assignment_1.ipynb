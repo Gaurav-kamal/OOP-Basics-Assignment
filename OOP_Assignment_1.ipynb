{
  "nbformat": 4,
  "nbformat_minor": 0,
  "metadata": {
    "colab": {
      "provenance": []
    },
    "kernelspec": {
      "name": "python3",
      "display_name": "Python 3"
    },
    "language_info": {
      "name": "python"
    }
  },
  "cells": [
    {
      "cell_type": "markdown",
      "source": [
        "#Class and Object Creation\n",
        "- Create a class named Vehicle.\n",
        "- The class should have the following properties: make, model, and year.\n",
        "- Implement a constructor to initialize these properties.\n",
        "- Add a method named display_info that prints the make, model, and year of the vehicle.\n",
        "- Create an object of the Vehicle class with specific values and call display_info to show the output.\n"
      ],
      "metadata": {
        "id": "cLKpasAdeqSy"
      }
    },
    {
      "cell_type": "code",
      "execution_count": 4,
      "metadata": {
        "id": "32_m-vEynDdY",
        "colab": {
          "base_uri": "https://localhost:8080/"
        },
        "outputId": "e5270674-63c1-40b6-d695-0ac890d5a6a3"
      },
      "outputs": [
        {
          "output_type": "stream",
          "name": "stdout",
          "text": [
            "Make: Toyota\n",
            "Model: Supra\n",
            "Year: 2015\n"
          ]
        }
      ],
      "source": [
        "class Vehicle():\n",
        "  def __init__(self, make, model, year):\n",
        "    self.make = make\n",
        "    self.model = model\n",
        "    self.year = year\n",
        "\n",
        "  def display_info(self):\n",
        "    print('Make:', self.make)\n",
        "    print('Model:', self.model)\n",
        "    print('Year:', self.year)\n",
        "\n",
        "my_car = Vehicle(\"Toyota\", \"Supra\", 2015)\n",
        "my_car.display_info()"
      ]
    },
    {
      "cell_type": "markdown",
      "source": [
        "#Inheritance\n",
        "- Create a subclass of Vehicle named Car.\n",
        "- Add additional properties specific to a car, such as num_doors and fuel_type.\n",
        "- Override the display_info method to include the additional details (num_doors and fuel_type).\n",
        "- Create an instance of Car, initialize it with all relevant values, and call display_info to display the full details.\n"
      ],
      "metadata": {
        "id": "nW5r6FTse4rK"
      }
    },
    {
      "cell_type": "code",
      "source": [
        "class Car(Vehicle):\n",
        "  def __init__(self, make, model, year, doors, fuel_type):\n",
        "    super().__init__(make, model, year)\n",
        "    self.doors = doors\n",
        "    self.fuel_type = fuel_type\n",
        "\n",
        "  def display_info(self):\n",
        "    super().display_info()\n",
        "    print('Number of Doors:', self.doors)\n",
        "    print('Fuel Type:', self.fuel_type)\n",
        "\n",
        "my_car = Car(\"Toyota\", \"Supra\", 2015, 2, \"Petrol\")\n",
        "my_car.display_info()"
      ],
      "metadata": {
        "id": "oIlBNa_1n_5O",
        "colab": {
          "base_uri": "https://localhost:8080/"
        },
        "outputId": "d26352f3-ad03-4325-e027-c4aef8a42666"
      },
      "execution_count": 20,
      "outputs": [
        {
          "output_type": "stream",
          "name": "stdout",
          "text": [
            "Make: Toyota\n",
            "Model: Supra\n",
            "Year: 2015\n",
            "Number of Doors: 2\n",
            "Fuel Type: Petrol\n"
          ]
        }
      ]
    },
    {
      "cell_type": "markdown",
      "source": [
        "#Polymorphism with Method Overriding\n",
        "- Create another subclass of Vehicle called Bike.\n",
        "- Add a property named engine_type specific to the Bike class.\n",
        "- Override the display_info method in Bike to include engine_type along with the vehicle’s make, model, and year.\n",
        "- Create an instance of Bike, initialize it with all relevant values, and call display_info to test polymorphism.\n"
      ],
      "metadata": {
        "id": "eteFsFU5gHUs"
      }
    },
    {
      "cell_type": "code",
      "source": [
        "class Bike(Vehicle):\n",
        "  def __init__(self, make, model, year, engine_type):\n",
        "    super().__init__(make, model, year)\n",
        "    self.engine_type = engine_type\n",
        "\n",
        "  def display_info(self):\n",
        "    super().display_info()\n",
        "    print('Engine Type:', self.engine_type)\n",
        "\n",
        "bike = Bike(\"Kawasaki\", \"H2\", 2024, \"Four Cylinder\")\n",
        "bike.display_info()"
      ],
      "metadata": {
        "colab": {
          "base_uri": "https://localhost:8080/"
        },
        "id": "gR7hlwSBeYSJ",
        "outputId": "eb846bda-ae8c-4257-8898-bbeac09582f0"
      },
      "execution_count": 22,
      "outputs": [
        {
          "output_type": "stream",
          "name": "stdout",
          "text": [
            "Make: Kawasaki\n",
            "Model: H2\n",
            "Year: 2024\n",
            "Engine Type: Four Cylinder\n"
          ]
        }
      ]
    },
    {
      "cell_type": "markdown",
      "source": [
        "#Polymorphism with a Function\n",
        "- Write a function named show_vehicle_info that takes a Vehicle object as an argument.\n",
        "- Use this function to display the details of any Vehicle object (e.g., an object of Vehicle, Car, or Bike) by calling the overridden display_info method.\n",
        "- Demonstrate polymorphism by passing instances of Vehicle, Car, and Bike to show_vehicle_info and observe the different outputs.\n"
      ],
      "metadata": {
        "id": "aYltjEnDgMS4"
      }
    },
    {
      "cell_type": "code",
      "source": [
        "def show_vehicle_info(vehicle):\n",
        "    vehicle.display_info()\n",
        "\n",
        "vehicle = Vehicle(\"Toyota\", \"Supra\", 2015)\n",
        "car = Car(\"Lamborghini\", \"Aventador\", 2023, 2, \"Petrol\")\n",
        "bike = Bike(\"Kawasaki\", \"R1\", 2024, \"Four Cylinder\")\n",
        "\n",
        "print(\"\\nVehicle Info:\")\n",
        "show_vehicle_info(vehicle)\n",
        "\n",
        "print(\"\\nCar Info:\")\n",
        "show_vehicle_info(car)\n",
        "\n",
        "print(\"\\nBike Info:\")\n",
        "show_vehicle_info(bike)"
      ],
      "metadata": {
        "colab": {
          "base_uri": "https://localhost:8080/"
        },
        "id": "PxlffrdTgUeP",
        "outputId": "490d0da9-8670-48d4-c960-2ca800381f1d"
      },
      "execution_count": 23,
      "outputs": [
        {
          "output_type": "stream",
          "name": "stdout",
          "text": [
            "\n",
            "Vehicle Info:\n",
            "Make: Toyota\n",
            "Model: Supra\n",
            "Year: 2015\n",
            "\n",
            "Car Info:\n",
            "Make: Lamborghini\n",
            "Model: Aventador\n",
            "Year: 2023\n",
            "Number of Doors: 2\n",
            "Fuel Type: Petrol\n",
            "\n",
            "Bike Info:\n",
            "Make: Kawasaki\n",
            "Model: R1\n",
            "Year: 2024\n",
            "Engine Type: Four Cylinder\n"
          ]
        }
      ]
    }
  ]
}